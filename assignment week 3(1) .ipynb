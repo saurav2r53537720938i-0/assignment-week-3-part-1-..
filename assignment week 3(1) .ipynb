{
 "cells": [
  {
   "cell_type": "code",
   "execution_count": 5,
   "id": "83dba2b9-ee73-4809-9f4c-a02f3d9ed08e",
   "metadata": {},
   "outputs": [],
   "source": [
    "def odd_numbers():\n",
    "    return[num for num in range(1,26)\n",
    "           if num % 2!= 0]\n",
    "result = odd_numbers()\n"
   ]
  },
  {
   "cell_type": "code",
   "execution_count": 6,
   "id": "1301a356-5593-4efe-b573-da0670ec8367",
   "metadata": {},
   "outputs": [
    {
     "name": "stdout",
     "output_type": "stream",
     "text": [
      "[1, 3, 5, 7, 9, 11, 13, 15, 17, 19, 21, 23, 25]\n"
     ]
    }
   ],
   "source": [
    "print(result)"
   ]
  },
  {
   "cell_type": "markdown",
   "id": "1bb1fe7a-d0f8-424e-acf2-08015c894620",
   "metadata": {},
   "source": [
    " example demonstrating the use of args:"
   ]
  },
  {
   "cell_type": "code",
   "execution_count": 7,
   "id": "ea64a32a-264b-47cb-a0af-519b6da2b367",
   "metadata": {},
   "outputs": [],
   "source": [
    "def example_args(*args):\n",
    "    for arg in args:\n",
    "        print(arg)"
   ]
  },
  {
   "cell_type": "code",
   "execution_count": 8,
   "id": "e1ce82af-f226-4a5c-8774-8ad256b49ac2",
   "metadata": {},
   "outputs": [
    {
     "name": "stdout",
     "output_type": "stream",
     "text": [
      "1\n",
      "2\n",
      "3\n",
      "four\n"
     ]
    }
   ],
   "source": [
    "example_args(1,2,3,\"four\")"
   ]
  },
  {
   "cell_type": "markdown",
   "id": "9f2752ba-b712-4713-ba29-93e3b57a743c",
   "metadata": {},
   "source": [
    "here,is an example demonstrating the use of kwargs:"
   ]
  },
  {
   "cell_type": "code",
   "execution_count": 13,
   "id": "3cfe4363-2a54-4e5a-a284-eddf687990d5",
   "metadata": {},
   "outputs": [],
   "source": [
    "def example_kwargs(**kwargs):\n",
    "    for key,value in kwargs.items():\n",
    "        print(f\"{key}:{value}\")"
   ]
  },
  {
   "cell_type": "code",
   "execution_count": 14,
   "id": "0dfe66e4-c3e8-4f1b-8753-576d0b19c7ae",
   "metadata": {},
   "outputs": [],
   "source": [
    "my_list = [2,4,6,8,10,12,14,16,18,20]"
   ]
  },
  {
   "cell_type": "markdown",
   "id": "d58ffa70-9eb8-4e49-bb59-0a67a3d1345e",
   "metadata": {},
   "source": [
    "# intialize iterator object"
   ]
  },
  {
   "cell_type": "code",
   "execution_count": 15,
   "id": "1217f43a-8ca3-4d63-834c-6050af513256",
   "metadata": {},
   "outputs": [],
   "source": [
    "my_iterator = iter(my_list)"
   ]
  },
  {
   "cell_type": "markdown",
   "id": "50fc5003-6204-47d1-aa45-0999617cc06a",
   "metadata": {},
   "source": [
    "# iterate and print the first five "
   ]
  },
  {
   "cell_type": "code",
   "execution_count": 19,
   "id": "2879ac18-40ac-4d66-b7a4-63753848cb8f",
   "metadata": {},
   "outputs": [
    {
     "name": "stdout",
     "output_type": "stream",
     "text": [
      "2\n",
      "4\n",
      "6\n",
      "8\n",
      "10\n"
     ]
    }
   ],
   "source": [
    "for _ in range(5):\n",
    "    element = next(my_iterator)\n",
    "    print(element)\n",
    "    "
   ]
  },
  {
   "cell_type": "markdown",
   "id": "708dc815-d502-48fc-9ffd-fc39f9259cfe",
   "metadata": {},
   "source": [
    "a generator function in python is special type of function that allows you to iterate "
   ]
  },
  {
   "cell_type": "code",
   "execution_count": 30,
   "id": "4e4d90f1-e909-4dff-88a7-85c97b44110b",
   "metadata": {},
   "outputs": [],
   "source": [
    "def generate_number(n):\n",
    "    for i in range(n):\n",
    "        yield i"
   ]
  },
  {
   "cell_type": "markdown",
   "id": "8847005b-2c2a-4526-bbbd-bddd6de60c7e",
   "metadata": {},
   "source": [
    "# using the generator function "
   ]
  },
  {
   "cell_type": "code",
   "execution_count": 31,
   "id": "f30233b8-dfa7-483f-aa16-5a6559436667",
   "metadata": {},
   "outputs": [],
   "source": [
    "my_generator = generate_number(5)"
   ]
  },
  {
   "cell_type": "markdown",
   "id": "fd75df5a-c8e3-4fd7-925d-6163e656e9d7",
   "metadata": {},
   "source": [
    "# iterating and printing value"
   ]
  },
  {
   "cell_type": "code",
   "execution_count": 35,
   "id": "e22ff3e0-945d-48dd-93fd-2951f60bb60d",
   "metadata": {},
   "outputs": [
    {
     "name": "stdout",
     "output_type": "stream",
     "text": [
      "0\n",
      "1\n",
      "2\n",
      "3\n",
      "4\n"
     ]
    }
   ],
   "source": [
    "for num in my_generator :\n",
    "    print(num)"
   ]
  },
  {
   "cell_type": "code",
   "execution_count": 37,
   "id": "e2b21d35-d388-47fe-8cfd-7ebe97e97c4f",
   "metadata": {},
   "outputs": [
    {
     "ename": "SyntaxError",
     "evalue": "incomplete input (108099785.py, line 4)",
     "output_type": "error",
     "traceback": [
      "\u001b[0;36m  Cell \u001b[0;32mIn[37], line 4\u001b[0;36m\u001b[0m\n\u001b[0;31m    for i in range(2,int(num**0.5)+1):\u001b[0m\n\u001b[0m                                      ^\u001b[0m\n\u001b[0;31mSyntaxError\u001b[0m\u001b[0;31m:\u001b[0m incomplete input\n"
     ]
    }
   ],
   "source": [
    "def is_prime(num):\n",
    "    if num<2:\n",
    "        return false\n",
    "    for i in range(2,int(num**0.5)+1):"
   ]
  },
  {
   "cell_type": "code",
   "execution_count": 38,
   "id": "499b40ef-6f98-4a37-a886-97fad5744cfe",
   "metadata": {},
   "outputs": [],
   "source": [
    "#function to generate fibonacci numbers"
   ]
  },
  {
   "cell_type": "code",
   "execution_count": 39,
   "id": "34cd3826-3a38-4a6f-8ffa-5c0cd6b1acb0",
   "metadata": {},
   "outputs": [],
   "source": [
    "def generate_fibonacci(n):\n",
    "    fib_list = [0,1]\n",
    "    while len(fib_list)<n:\n",
    "        fib_list.append(fib_list[-1]+fib_list[-2])\n",
    "        return fib_list"
   ]
  },
  {
   "cell_type": "markdown",
   "id": "aa9afa01-92eb-40a0-95c5-6af7cec3d939",
   "metadata": {},
   "source": [
    "#print the first 10 fibonacci numbers"
   ]
  },
  {
   "cell_type": "code",
   "execution_count": 40,
   "id": "2d657a15-ad77-49ad-a7c7-1891b99347f9",
   "metadata": {},
   "outputs": [
    {
     "name": "stdout",
     "output_type": "stream",
     "text": [
      "0\n",
      "1\n",
      "1\n"
     ]
    }
   ],
   "source": [
    "fibonacci_numbers =generate_fibonacci(10)\n",
    "for num in fibonacci_numbers:\n",
    "    print(num)"
   ]
  },
  {
   "cell_type": "code",
   "execution_count": 41,
   "id": "195b8721-9fbf-42a9-ad8b-b360f318f409",
   "metadata": {},
   "outputs": [
    {
     "ename": "IndentationError",
     "evalue": "unexpected indent (4004231960.py, line 2)",
     "output_type": "error",
     "traceback": [
      "\u001b[0;36m  Cell \u001b[0;32mIn[41], line 2\u001b[0;36m\u001b[0m\n\u001b[0;31m    result = [char for char in string if]\u001b[0m\n\u001b[0m    ^\u001b[0m\n\u001b[0;31mIndentationError\u001b[0m\u001b[0;31m:\u001b[0m unexpected indent\n"
     ]
    }
   ],
   "source": [
    " string= \"pwskills\"\n",
    "    result = [char for char in string if]\n",
    "    char.lower() in \"pwskills\"]"
   ]
  },
  {
   "cell_type": "code",
   "execution_count": 47,
   "id": "1581ea3d-1559-4e10-bed2-c2ac9f482a7e",
   "metadata": {},
   "outputs": [
    {
     "ename": "SyntaxError",
     "evalue": "invalid syntax. Perhaps you forgot a comma? (3402749582.py, line 2)",
     "output_type": "error",
     "traceback": [
      "\u001b[0;36m  Cell \u001b[0;32mIn[47], line 2\u001b[0;36m\u001b[0m\n\u001b[0;31m    orginal_number = number\u001b[0m\n\u001b[0m                     ^\u001b[0m\n\u001b[0;31mSyntaxError\u001b[0m\u001b[0;31m:\u001b[0m invalid syntax. Perhaps you forgot a comma?\n"
     ]
    }
   ],
   "source": [
    "def is_pallindrome(number:\n",
    "                   orginal_number = number\n",
    "                   reversed_number = 0\n",
    "            while number>0:\n",
    "                   digit = number %10\n",
    "    reversed_number*10+digit number = number //10\n",
    "                   return orginal_number ==reversed_number)\n",
    "                   "
   ]
  },
  {
   "cell_type": "code",
   "execution_count": 50,
   "id": "9f440140-06cf-45f8-92df-51555af019c0",
   "metadata": {},
   "outputs": [
    {
     "ename": "SyntaxError",
     "evalue": "invalid syntax (3956258486.py, line 1)",
     "output_type": "error",
     "traceback": [
      "\u001b[0;36m  Cell \u001b[0;32mIn[50], line 1\u001b[0;36m\u001b[0m\n\u001b[0;31m    odd_number = [num for num in range(1,101)if num%2!=]:\u001b[0m\n\u001b[0m                                                       ^\u001b[0m\n\u001b[0;31mSyntaxError\u001b[0m\u001b[0;31m:\u001b[0m invalid syntax\n"
     ]
    }
   ],
   "source": [
    "odd_number = [num for num in range(1,101)if num%2!=]:\n",
    "    print(odd_numbers)"
   ]
  },
  {
   "cell_type": "code",
   "execution_count": null,
   "id": "f1750878-b137-47a4-a851-86c0250949b7",
   "metadata": {},
   "outputs": [],
   "source": []
  }
 ],
 "metadata": {
  "kernelspec": {
   "display_name": "Python 3 (ipykernel)",
   "language": "python",
   "name": "python3"
  },
  "language_info": {
   "codemirror_mode": {
    "name": "ipython",
    "version": 3
   },
   "file_extension": ".py",
   "mimetype": "text/x-python",
   "name": "python",
   "nbconvert_exporter": "python",
   "pygments_lexer": "ipython3",
   "version": "3.10.8"
  }
 },
 "nbformat": 4,
 "nbformat_minor": 5
}
